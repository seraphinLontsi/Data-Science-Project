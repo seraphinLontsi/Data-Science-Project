{
 "cells": [
  {
   "cell_type": "markdown",
   "id": "92f09709",
   "metadata": {},
   "source": [
    "# Import Basic Libaries"
   ]
  },
  {
   "cell_type": "code",
   "execution_count": 1,
   "id": "f1613bfa",
   "metadata": {},
   "outputs": [],
   "source": [
    "import pandas as pd\n",
    "import numpy as np\n",
    "import missingno as msno\n",
    "import seaborn as sns\n",
    "import matplotlib.pyplot as plt"
   ]
  },
  {
   "cell_type": "code",
   "execution_count": 2,
   "id": "a90d109f",
   "metadata": {},
   "outputs": [],
   "source": [
    "sns.set_style(\"darkgrid\")"
   ]
  },
  {
   "cell_type": "markdown",
   "id": "482d47e6",
   "metadata": {},
   "source": [
    "# Load Dataset"
   ]
  },
  {
   "cell_type": "code",
   "execution_count": 3,
   "id": "9b04a9c7",
   "metadata": {},
   "outputs": [],
   "source": [
    "df_raw = pd.read_csv('new.csv', encoding='iso-8859-1', low_memory = False)\n",
    "df = df_raw.copy()"
   ]
  },
  {
   "cell_type": "code",
   "execution_count": 4,
   "id": "bb77445c",
   "metadata": {},
   "outputs": [
    {
     "data": {
      "text/html": [
       "<div>\n",
       "<style scoped>\n",
       "    .dataframe tbody tr th:only-of-type {\n",
       "        vertical-align: middle;\n",
       "    }\n",
       "\n",
       "    .dataframe tbody tr th {\n",
       "        vertical-align: top;\n",
       "    }\n",
       "\n",
       "    .dataframe thead th {\n",
       "        text-align: right;\n",
       "    }\n",
       "</style>\n",
       "<table border=\"1\" class=\"dataframe\">\n",
       "  <thead>\n",
       "    <tr style=\"text-align: right;\">\n",
       "      <th></th>\n",
       "      <th>url</th>\n",
       "      <th>id</th>\n",
       "      <th>Lng</th>\n",
       "      <th>Lat</th>\n",
       "      <th>Cid</th>\n",
       "      <th>tradeTime</th>\n",
       "      <th>DOM</th>\n",
       "      <th>followers</th>\n",
       "      <th>totalPrice</th>\n",
       "      <th>price</th>\n",
       "      <th>...</th>\n",
       "      <th>buildingType</th>\n",
       "      <th>constructionTime</th>\n",
       "      <th>renovationCondition</th>\n",
       "      <th>buildingStructure</th>\n",
       "      <th>ladderRatio</th>\n",
       "      <th>elevator</th>\n",
       "      <th>fiveYearsProperty</th>\n",
       "      <th>subway</th>\n",
       "      <th>district</th>\n",
       "      <th>communityAverage</th>\n",
       "    </tr>\n",
       "  </thead>\n",
       "  <tbody>\n",
       "    <tr>\n",
       "      <th>0</th>\n",
       "      <td>https://bj.lianjia.com/chengjiao/101084782030....</td>\n",
       "      <td>101084782030</td>\n",
       "      <td>116.475489</td>\n",
       "      <td>40.019520</td>\n",
       "      <td>1111027376244</td>\n",
       "      <td>2016-08-09</td>\n",
       "      <td>1464.0</td>\n",
       "      <td>106</td>\n",
       "      <td>415.0</td>\n",
       "      <td>31680</td>\n",
       "      <td>...</td>\n",
       "      <td>1.0</td>\n",
       "      <td>2005</td>\n",
       "      <td>3</td>\n",
       "      <td>6</td>\n",
       "      <td>0.217</td>\n",
       "      <td>1.0</td>\n",
       "      <td>0.0</td>\n",
       "      <td>1.0</td>\n",
       "      <td>7</td>\n",
       "      <td>56021.0</td>\n",
       "    </tr>\n",
       "    <tr>\n",
       "      <th>1</th>\n",
       "      <td>https://bj.lianjia.com/chengjiao/101086012217....</td>\n",
       "      <td>101086012217</td>\n",
       "      <td>116.453917</td>\n",
       "      <td>39.881534</td>\n",
       "      <td>1111027381879</td>\n",
       "      <td>2016-07-28</td>\n",
       "      <td>903.0</td>\n",
       "      <td>126</td>\n",
       "      <td>575.0</td>\n",
       "      <td>43436</td>\n",
       "      <td>...</td>\n",
       "      <td>1.0</td>\n",
       "      <td>2004</td>\n",
       "      <td>4</td>\n",
       "      <td>6</td>\n",
       "      <td>0.667</td>\n",
       "      <td>1.0</td>\n",
       "      <td>1.0</td>\n",
       "      <td>0.0</td>\n",
       "      <td>7</td>\n",
       "      <td>71539.0</td>\n",
       "    </tr>\n",
       "    <tr>\n",
       "      <th>2</th>\n",
       "      <td>https://bj.lianjia.com/chengjiao/101086041636....</td>\n",
       "      <td>101086041636</td>\n",
       "      <td>116.561978</td>\n",
       "      <td>39.877145</td>\n",
       "      <td>1111040862969</td>\n",
       "      <td>2016-12-11</td>\n",
       "      <td>1271.0</td>\n",
       "      <td>48</td>\n",
       "      <td>1030.0</td>\n",
       "      <td>52021</td>\n",
       "      <td>...</td>\n",
       "      <td>4.0</td>\n",
       "      <td>2005</td>\n",
       "      <td>3</td>\n",
       "      <td>6</td>\n",
       "      <td>0.500</td>\n",
       "      <td>1.0</td>\n",
       "      <td>0.0</td>\n",
       "      <td>0.0</td>\n",
       "      <td>7</td>\n",
       "      <td>48160.0</td>\n",
       "    </tr>\n",
       "    <tr>\n",
       "      <th>3</th>\n",
       "      <td>https://bj.lianjia.com/chengjiao/101086406841....</td>\n",
       "      <td>101086406841</td>\n",
       "      <td>116.438010</td>\n",
       "      <td>40.076114</td>\n",
       "      <td>1111043185817</td>\n",
       "      <td>2016-09-30</td>\n",
       "      <td>965.0</td>\n",
       "      <td>138</td>\n",
       "      <td>297.5</td>\n",
       "      <td>22202</td>\n",
       "      <td>...</td>\n",
       "      <td>1.0</td>\n",
       "      <td>2008</td>\n",
       "      <td>1</td>\n",
       "      <td>6</td>\n",
       "      <td>0.273</td>\n",
       "      <td>1.0</td>\n",
       "      <td>0.0</td>\n",
       "      <td>0.0</td>\n",
       "      <td>6</td>\n",
       "      <td>51238.0</td>\n",
       "    </tr>\n",
       "    <tr>\n",
       "      <th>4</th>\n",
       "      <td>https://bj.lianjia.com/chengjiao/101086920653....</td>\n",
       "      <td>101086920653</td>\n",
       "      <td>116.428392</td>\n",
       "      <td>39.886229</td>\n",
       "      <td>1111027381174</td>\n",
       "      <td>2016-08-28</td>\n",
       "      <td>927.0</td>\n",
       "      <td>286</td>\n",
       "      <td>392.0</td>\n",
       "      <td>48396</td>\n",
       "      <td>...</td>\n",
       "      <td>4.0</td>\n",
       "      <td>1960</td>\n",
       "      <td>2</td>\n",
       "      <td>2</td>\n",
       "      <td>0.333</td>\n",
       "      <td>0.0</td>\n",
       "      <td>1.0</td>\n",
       "      <td>1.0</td>\n",
       "      <td>1</td>\n",
       "      <td>62588.0</td>\n",
       "    </tr>\n",
       "  </tbody>\n",
       "</table>\n",
       "<p>5 rows × 26 columns</p>\n",
       "</div>"
      ],
      "text/plain": [
       "                                                 url            id  \\\n",
       "0  https://bj.lianjia.com/chengjiao/101084782030....  101084782030   \n",
       "1  https://bj.lianjia.com/chengjiao/101086012217....  101086012217   \n",
       "2  https://bj.lianjia.com/chengjiao/101086041636....  101086041636   \n",
       "3  https://bj.lianjia.com/chengjiao/101086406841....  101086406841   \n",
       "4  https://bj.lianjia.com/chengjiao/101086920653....  101086920653   \n",
       "\n",
       "          Lng        Lat            Cid   tradeTime     DOM  followers  \\\n",
       "0  116.475489  40.019520  1111027376244  2016-08-09  1464.0        106   \n",
       "1  116.453917  39.881534  1111027381879  2016-07-28   903.0        126   \n",
       "2  116.561978  39.877145  1111040862969  2016-12-11  1271.0         48   \n",
       "3  116.438010  40.076114  1111043185817  2016-09-30   965.0        138   \n",
       "4  116.428392  39.886229  1111027381174  2016-08-28   927.0        286   \n",
       "\n",
       "   totalPrice  price  ...  buildingType constructionTime renovationCondition  \\\n",
       "0       415.0  31680  ...           1.0             2005                   3   \n",
       "1       575.0  43436  ...           1.0             2004                   4   \n",
       "2      1030.0  52021  ...           4.0             2005                   3   \n",
       "3       297.5  22202  ...           1.0             2008                   1   \n",
       "4       392.0  48396  ...           4.0             1960                   2   \n",
       "\n",
       "   buildingStructure ladderRatio elevator  fiveYearsProperty subway  district  \\\n",
       "0                  6       0.217      1.0                0.0    1.0         7   \n",
       "1                  6       0.667      1.0                1.0    0.0         7   \n",
       "2                  6       0.500      1.0                0.0    0.0         7   \n",
       "3                  6       0.273      1.0                0.0    0.0         6   \n",
       "4                  2       0.333      0.0                1.0    1.0         1   \n",
       "\n",
       "   communityAverage  \n",
       "0           56021.0  \n",
       "1           71539.0  \n",
       "2           48160.0  \n",
       "3           51238.0  \n",
       "4           62588.0  \n",
       "\n",
       "[5 rows x 26 columns]"
      ]
     },
     "execution_count": 4,
     "metadata": {},
     "output_type": "execute_result"
    }
   ],
   "source": [
    "df.head()"
   ]
  },
  {
   "cell_type": "code",
   "execution_count": 5,
   "id": "4f62a67b",
   "metadata": {},
   "outputs": [
    {
     "name": "stdout",
     "output_type": "stream",
     "text": [
      "<class 'pandas.core.frame.DataFrame'>\n",
      "RangeIndex: 318851 entries, 0 to 318850\n",
      "Data columns (total 26 columns):\n",
      " #   Column               Non-Null Count   Dtype  \n",
      "---  ------               --------------   -----  \n",
      " 0   url                  318851 non-null  object \n",
      " 1   id                   318851 non-null  object \n",
      " 2   Lng                  318851 non-null  float64\n",
      " 3   Lat                  318851 non-null  float64\n",
      " 4   Cid                  318851 non-null  int64  \n",
      " 5   tradeTime            318851 non-null  object \n",
      " 6   DOM                  160874 non-null  float64\n",
      " 7   followers            318851 non-null  int64  \n",
      " 8   totalPrice           318851 non-null  float64\n",
      " 9   price                318851 non-null  int64  \n",
      " 10  square               318851 non-null  float64\n",
      " 11  livingRoom           318851 non-null  object \n",
      " 12  drawingRoom          318851 non-null  object \n",
      " 13  kitchen              318851 non-null  int64  \n",
      " 14  bathRoom             318851 non-null  object \n",
      " 15  floor                318851 non-null  object \n",
      " 16  buildingType         316830 non-null  float64\n",
      " 17  constructionTime     318851 non-null  object \n",
      " 18  renovationCondition  318851 non-null  int64  \n",
      " 19  buildingStructure    318851 non-null  int64  \n",
      " 20  ladderRatio          318851 non-null  float64\n",
      " 21  elevator             318819 non-null  float64\n",
      " 22  fiveYearsProperty    318819 non-null  float64\n",
      " 23  subway               318819 non-null  float64\n",
      " 24  district             318851 non-null  int64  \n",
      " 25  communityAverage     318388 non-null  float64\n",
      "dtypes: float64(11), int64(7), object(8)\n",
      "memory usage: 63.2+ MB\n"
     ]
    }
   ],
   "source": [
    "df.info()"
   ]
  },
  {
   "cell_type": "code",
   "execution_count": 6,
   "id": "3800a717",
   "metadata": {},
   "outputs": [
    {
     "data": {
      "text/html": [
       "<style type=\"text/css\">\n",
       "#T_74089_row0_col0, #T_74089_row0_col1, #T_74089_row0_col3, #T_74089_row0_col4, #T_74089_row0_col5, #T_74089_row0_col6, #T_74089_row0_col7, #T_74089_row0_col8, #T_74089_row0_col9, #T_74089_row0_col10, #T_74089_row0_col11, #T_74089_row0_col13, #T_74089_row0_col14, #T_74089_row0_col15, #T_74089_row0_col16, #T_74089_row0_col17, #T_74089_row7_col2, #T_74089_row7_col12 {\n",
       "  background-color: #fde725;\n",
       "  color: #000000;\n",
       "}\n",
       "#T_74089_row0_col2, #T_74089_row1_col0, #T_74089_row1_col1, #T_74089_row1_col2, #T_74089_row1_col3, #T_74089_row1_col4, #T_74089_row1_col5, #T_74089_row1_col7, #T_74089_row1_col8, #T_74089_row1_col9, #T_74089_row1_col10, #T_74089_row1_col11, #T_74089_row1_col12, #T_74089_row1_col13, #T_74089_row1_col14, #T_74089_row1_col15, #T_74089_row1_col16, #T_74089_row2_col0, #T_74089_row2_col1, #T_74089_row2_col2, #T_74089_row2_col3, #T_74089_row2_col4, #T_74089_row2_col5, #T_74089_row2_col7, #T_74089_row2_col8, #T_74089_row2_col9, #T_74089_row2_col10, #T_74089_row2_col11, #T_74089_row2_col12, #T_74089_row2_col13, #T_74089_row2_col14, #T_74089_row2_col15, #T_74089_row2_col16, #T_74089_row3_col0, #T_74089_row3_col1, #T_74089_row3_col2, #T_74089_row3_col3, #T_74089_row3_col4, #T_74089_row3_col5, #T_74089_row3_col6, #T_74089_row3_col7, #T_74089_row3_col8, #T_74089_row3_col9, #T_74089_row3_col10, #T_74089_row3_col11, #T_74089_row3_col12, #T_74089_row3_col13, #T_74089_row3_col14, #T_74089_row3_col15, #T_74089_row3_col16, #T_74089_row3_col17, #T_74089_row4_col0, #T_74089_row4_col1, #T_74089_row4_col2, #T_74089_row4_col3, #T_74089_row4_col4, #T_74089_row4_col5, #T_74089_row4_col7, #T_74089_row4_col8, #T_74089_row4_col9, #T_74089_row4_col10, #T_74089_row4_col11, #T_74089_row4_col12, #T_74089_row4_col13, #T_74089_row4_col14, #T_74089_row4_col15, #T_74089_row4_col16, #T_74089_row5_col0, #T_74089_row5_col1, #T_74089_row5_col2, #T_74089_row5_col3, #T_74089_row5_col4, #T_74089_row5_col5, #T_74089_row5_col7, #T_74089_row5_col8, #T_74089_row5_col9, #T_74089_row5_col10, #T_74089_row5_col11, #T_74089_row5_col12, #T_74089_row5_col13, #T_74089_row5_col14, #T_74089_row5_col15, #T_74089_row5_col16, #T_74089_row6_col0, #T_74089_row6_col1, #T_74089_row6_col2, #T_74089_row6_col3, #T_74089_row6_col4, #T_74089_row6_col5, #T_74089_row6_col7, #T_74089_row6_col8, #T_74089_row6_col9, #T_74089_row6_col10, #T_74089_row6_col11, #T_74089_row6_col12, #T_74089_row6_col13, #T_74089_row6_col14, #T_74089_row6_col15, #T_74089_row6_col16, #T_74089_row7_col0, #T_74089_row7_col1, #T_74089_row7_col4, #T_74089_row7_col8, #T_74089_row7_col9, #T_74089_row7_col10, #T_74089_row7_col11, #T_74089_row7_col13, #T_74089_row7_col14, #T_74089_row7_col15, #T_74089_row7_col16 {\n",
       "  background-color: #440154;\n",
       "  color: #f1f1f1;\n",
       "}\n",
       "#T_74089_row0_col12 {\n",
       "  background-color: #470d60;\n",
       "  color: #f1f1f1;\n",
       "}\n",
       "#T_74089_row1_col6 {\n",
       "  background-color: #472f7d;\n",
       "  color: #f1f1f1;\n",
       "}\n",
       "#T_74089_row1_col17, #T_74089_row6_col6 {\n",
       "  background-color: #443a83;\n",
       "  color: #f1f1f1;\n",
       "}\n",
       "#T_74089_row2_col6 {\n",
       "  background-color: #481a6c;\n",
       "  color: #f1f1f1;\n",
       "}\n",
       "#T_74089_row2_col17 {\n",
       "  background-color: #470e61;\n",
       "  color: #f1f1f1;\n",
       "}\n",
       "#T_74089_row4_col6 {\n",
       "  background-color: #482071;\n",
       "  color: #f1f1f1;\n",
       "}\n",
       "#T_74089_row4_col17 {\n",
       "  background-color: #482979;\n",
       "  color: #f1f1f1;\n",
       "}\n",
       "#T_74089_row5_col6 {\n",
       "  background-color: #472c7a;\n",
       "  color: #f1f1f1;\n",
       "}\n",
       "#T_74089_row5_col17 {\n",
       "  background-color: #453781;\n",
       "  color: #f1f1f1;\n",
       "}\n",
       "#T_74089_row6_col17 {\n",
       "  background-color: #3f4788;\n",
       "  color: #f1f1f1;\n",
       "}\n",
       "#T_74089_row7_col3 {\n",
       "  background-color: #450457;\n",
       "  color: #f1f1f1;\n",
       "}\n",
       "#T_74089_row7_col5 {\n",
       "  background-color: #481668;\n",
       "  color: #f1f1f1;\n",
       "}\n",
       "#T_74089_row7_col6 {\n",
       "  background-color: #218e8d;\n",
       "  color: #f1f1f1;\n",
       "}\n",
       "#T_74089_row7_col7 {\n",
       "  background-color: #440256;\n",
       "  color: #f1f1f1;\n",
       "}\n",
       "#T_74089_row7_col17 {\n",
       "  background-color: #1f9f88;\n",
       "  color: #f1f1f1;\n",
       "}\n",
       "</style>\n",
       "<table id=\"T_74089\">\n",
       "  <thead>\n",
       "    <tr>\n",
       "      <th class=\"blank level0\" >&nbsp;</th>\n",
       "      <th id=\"T_74089_level0_col0\" class=\"col_heading level0 col0\" >Lng</th>\n",
       "      <th id=\"T_74089_level0_col1\" class=\"col_heading level0 col1\" >Lat</th>\n",
       "      <th id=\"T_74089_level0_col2\" class=\"col_heading level0 col2\" >Cid</th>\n",
       "      <th id=\"T_74089_level0_col3\" class=\"col_heading level0 col3\" >DOM</th>\n",
       "      <th id=\"T_74089_level0_col4\" class=\"col_heading level0 col4\" >followers</th>\n",
       "      <th id=\"T_74089_level0_col5\" class=\"col_heading level0 col5\" >totalPrice</th>\n",
       "      <th id=\"T_74089_level0_col6\" class=\"col_heading level0 col6\" >price</th>\n",
       "      <th id=\"T_74089_level0_col7\" class=\"col_heading level0 col7\" >square</th>\n",
       "      <th id=\"T_74089_level0_col8\" class=\"col_heading level0 col8\" >kitchen</th>\n",
       "      <th id=\"T_74089_level0_col9\" class=\"col_heading level0 col9\" >buildingType</th>\n",
       "      <th id=\"T_74089_level0_col10\" class=\"col_heading level0 col10\" >renovationCondition</th>\n",
       "      <th id=\"T_74089_level0_col11\" class=\"col_heading level0 col11\" >buildingStructure</th>\n",
       "      <th id=\"T_74089_level0_col12\" class=\"col_heading level0 col12\" >ladderRatio</th>\n",
       "      <th id=\"T_74089_level0_col13\" class=\"col_heading level0 col13\" >elevator</th>\n",
       "      <th id=\"T_74089_level0_col14\" class=\"col_heading level0 col14\" >fiveYearsProperty</th>\n",
       "      <th id=\"T_74089_level0_col15\" class=\"col_heading level0 col15\" >subway</th>\n",
       "      <th id=\"T_74089_level0_col16\" class=\"col_heading level0 col16\" >district</th>\n",
       "      <th id=\"T_74089_level0_col17\" class=\"col_heading level0 col17\" >communityAverage</th>\n",
       "    </tr>\n",
       "  </thead>\n",
       "  <tbody>\n",
       "    <tr>\n",
       "      <th id=\"T_74089_level0_row0\" class=\"row_heading level0 row0\" >count</th>\n",
       "      <td id=\"T_74089_row0_col0\" class=\"data row0 col0\" >318851.000000</td>\n",
       "      <td id=\"T_74089_row0_col1\" class=\"data row0 col1\" >318851.000000</td>\n",
       "      <td id=\"T_74089_row0_col2\" class=\"data row0 col2\" >318851.000000</td>\n",
       "      <td id=\"T_74089_row0_col3\" class=\"data row0 col3\" >160874.000000</td>\n",
       "      <td id=\"T_74089_row0_col4\" class=\"data row0 col4\" >318851.000000</td>\n",
       "      <td id=\"T_74089_row0_col5\" class=\"data row0 col5\" >318851.000000</td>\n",
       "      <td id=\"T_74089_row0_col6\" class=\"data row0 col6\" >318851.000000</td>\n",
       "      <td id=\"T_74089_row0_col7\" class=\"data row0 col7\" >318851.000000</td>\n",
       "      <td id=\"T_74089_row0_col8\" class=\"data row0 col8\" >318851.000000</td>\n",
       "      <td id=\"T_74089_row0_col9\" class=\"data row0 col9\" >316830.000000</td>\n",
       "      <td id=\"T_74089_row0_col10\" class=\"data row0 col10\" >318851.000000</td>\n",
       "      <td id=\"T_74089_row0_col11\" class=\"data row0 col11\" >318851.000000</td>\n",
       "      <td id=\"T_74089_row0_col12\" class=\"data row0 col12\" >318851.000000</td>\n",
       "      <td id=\"T_74089_row0_col13\" class=\"data row0 col13\" >318819.000000</td>\n",
       "      <td id=\"T_74089_row0_col14\" class=\"data row0 col14\" >318819.000000</td>\n",
       "      <td id=\"T_74089_row0_col15\" class=\"data row0 col15\" >318819.000000</td>\n",
       "      <td id=\"T_74089_row0_col16\" class=\"data row0 col16\" >318851.000000</td>\n",
       "      <td id=\"T_74089_row0_col17\" class=\"data row0 col17\" >318388.000000</td>\n",
       "    </tr>\n",
       "    <tr>\n",
       "      <th id=\"T_74089_level0_row1\" class=\"row_heading level0 row1\" >mean</th>\n",
       "      <td id=\"T_74089_row1_col0\" class=\"data row1 col0\" >116.418459</td>\n",
       "      <td id=\"T_74089_row1_col1\" class=\"data row1 col1\" >39.949591</td>\n",
       "      <td id=\"T_74089_row1_col2\" class=\"data row1 col2\" >1129113334722.684570</td>\n",
       "      <td id=\"T_74089_row1_col3\" class=\"data row1 col3\" >28.822339</td>\n",
       "      <td id=\"T_74089_row1_col4\" class=\"data row1 col4\" >16.731508</td>\n",
       "      <td id=\"T_74089_row1_col5\" class=\"data row1 col5\" >349.030201</td>\n",
       "      <td id=\"T_74089_row1_col6\" class=\"data row1 col6\" >43530.436379</td>\n",
       "      <td id=\"T_74089_row1_col7\" class=\"data row1 col7\" >83.240597</td>\n",
       "      <td id=\"T_74089_row1_col8\" class=\"data row1 col8\" >0.994599</td>\n",
       "      <td id=\"T_74089_row1_col9\" class=\"data row1 col9\" >3.009790</td>\n",
       "      <td id=\"T_74089_row1_col10\" class=\"data row1 col10\" >2.606330</td>\n",
       "      <td id=\"T_74089_row1_col11\" class=\"data row1 col11\" >4.451026</td>\n",
       "      <td id=\"T_74089_row1_col12\" class=\"data row1 col12\" >63.164860</td>\n",
       "      <td id=\"T_74089_row1_col13\" class=\"data row1 col13\" >0.577055</td>\n",
       "      <td id=\"T_74089_row1_col14\" class=\"data row1 col14\" >0.645601</td>\n",
       "      <td id=\"T_74089_row1_col15\" class=\"data row1 col15\" >0.601112</td>\n",
       "      <td id=\"T_74089_row1_col16\" class=\"data row1 col16\" >6.763564</td>\n",
       "      <td id=\"T_74089_row1_col17\" class=\"data row1 col17\" >63682.446305</td>\n",
       "    </tr>\n",
       "    <tr>\n",
       "      <th id=\"T_74089_level0_row2\" class=\"row_heading level0 row2\" >std</th>\n",
       "      <td id=\"T_74089_row2_col0\" class=\"data row2 col0\" >0.112054</td>\n",
       "      <td id=\"T_74089_row2_col1\" class=\"data row2 col1\" >0.091983</td>\n",
       "      <td id=\"T_74089_row2_col2\" class=\"data row2 col2\" >2363446816045.193848</td>\n",
       "      <td id=\"T_74089_row2_col3\" class=\"data row2 col3\" >50.237343</td>\n",
       "      <td id=\"T_74089_row2_col4\" class=\"data row2 col4\" >34.209185</td>\n",
       "      <td id=\"T_74089_row2_col5\" class=\"data row2 col5\" >230.780778</td>\n",
       "      <td id=\"T_74089_row2_col6\" class=\"data row2 col6\" >21709.024204</td>\n",
       "      <td id=\"T_74089_row2_col7\" class=\"data row2 col7\" >37.234661</td>\n",
       "      <td id=\"T_74089_row2_col8\" class=\"data row2 col8\" >0.109609</td>\n",
       "      <td id=\"T_74089_row2_col9\" class=\"data row2 col9\" >1.269857</td>\n",
       "      <td id=\"T_74089_row2_col10\" class=\"data row2 col10\" >1.311739</td>\n",
       "      <td id=\"T_74089_row2_col11\" class=\"data row2 col11\" >1.901753</td>\n",
       "      <td id=\"T_74089_row2_col12\" class=\"data row2 col12\" >25068.506083</td>\n",
       "      <td id=\"T_74089_row2_col13\" class=\"data row2 col13\" >0.494028</td>\n",
       "      <td id=\"T_74089_row2_col14\" class=\"data row2 col14\" >0.478331</td>\n",
       "      <td id=\"T_74089_row2_col15\" class=\"data row2 col15\" >0.489670</td>\n",
       "      <td id=\"T_74089_row2_col16\" class=\"data row2 col16\" >2.812616</td>\n",
       "      <td id=\"T_74089_row2_col17\" class=\"data row2 col17\" >22329.215447</td>\n",
       "    </tr>\n",
       "    <tr>\n",
       "      <th id=\"T_74089_level0_row3\" class=\"row_heading level0 row3\" >min</th>\n",
       "      <td id=\"T_74089_row3_col0\" class=\"data row3 col0\" >116.072514</td>\n",
       "      <td id=\"T_74089_row3_col1\" class=\"data row3 col1\" >39.627030</td>\n",
       "      <td id=\"T_74089_row3_col2\" class=\"data row3 col2\" >1111027373683.000000</td>\n",
       "      <td id=\"T_74089_row3_col3\" class=\"data row3 col3\" >1.000000</td>\n",
       "      <td id=\"T_74089_row3_col4\" class=\"data row3 col4\" >0.000000</td>\n",
       "      <td id=\"T_74089_row3_col5\" class=\"data row3 col5\" >0.100000</td>\n",
       "      <td id=\"T_74089_row3_col6\" class=\"data row3 col6\" >1.000000</td>\n",
       "      <td id=\"T_74089_row3_col7\" class=\"data row3 col7\" >6.900000</td>\n",
       "      <td id=\"T_74089_row3_col8\" class=\"data row3 col8\" >0.000000</td>\n",
       "      <td id=\"T_74089_row3_col9\" class=\"data row3 col9\" >0.048000</td>\n",
       "      <td id=\"T_74089_row3_col10\" class=\"data row3 col10\" >0.000000</td>\n",
       "      <td id=\"T_74089_row3_col11\" class=\"data row3 col11\" >0.000000</td>\n",
       "      <td id=\"T_74089_row3_col12\" class=\"data row3 col12\" >0.000000</td>\n",
       "      <td id=\"T_74089_row3_col13\" class=\"data row3 col13\" >0.000000</td>\n",
       "      <td id=\"T_74089_row3_col14\" class=\"data row3 col14\" >0.000000</td>\n",
       "      <td id=\"T_74089_row3_col15\" class=\"data row3 col15\" >0.000000</td>\n",
       "      <td id=\"T_74089_row3_col16\" class=\"data row3 col16\" >1.000000</td>\n",
       "      <td id=\"T_74089_row3_col17\" class=\"data row3 col17\" >10847.000000</td>\n",
       "    </tr>\n",
       "    <tr>\n",
       "      <th id=\"T_74089_level0_row4\" class=\"row_heading level0 row4\" >25%</th>\n",
       "      <td id=\"T_74089_row4_col0\" class=\"data row4 col0\" >116.344985</td>\n",
       "      <td id=\"T_74089_row4_col1\" class=\"data row4 col1\" >39.893200</td>\n",
       "      <td id=\"T_74089_row4_col2\" class=\"data row4 col2\" >1111027376255.000000</td>\n",
       "      <td id=\"T_74089_row4_col3\" class=\"data row4 col3\" >1.000000</td>\n",
       "      <td id=\"T_74089_row4_col4\" class=\"data row4 col4\" >0.000000</td>\n",
       "      <td id=\"T_74089_row4_col5\" class=\"data row4 col5\" >205.000000</td>\n",
       "      <td id=\"T_74089_row4_col6\" class=\"data row4 col6\" >28050.000000</td>\n",
       "      <td id=\"T_74089_row4_col7\" class=\"data row4 col7\" >57.900000</td>\n",
       "      <td id=\"T_74089_row4_col8\" class=\"data row4 col8\" >1.000000</td>\n",
       "      <td id=\"T_74089_row4_col9\" class=\"data row4 col9\" >1.000000</td>\n",
       "      <td id=\"T_74089_row4_col10\" class=\"data row4 col10\" >1.000000</td>\n",
       "      <td id=\"T_74089_row4_col11\" class=\"data row4 col11\" >2.000000</td>\n",
       "      <td id=\"T_74089_row4_col12\" class=\"data row4 col12\" >0.250000</td>\n",
       "      <td id=\"T_74089_row4_col13\" class=\"data row4 col13\" >0.000000</td>\n",
       "      <td id=\"T_74089_row4_col14\" class=\"data row4 col14\" >0.000000</td>\n",
       "      <td id=\"T_74089_row4_col15\" class=\"data row4 col15\" >0.000000</td>\n",
       "      <td id=\"T_74089_row4_col16\" class=\"data row4 col16\" >6.000000</td>\n",
       "      <td id=\"T_74089_row4_col17\" class=\"data row4 col17\" >46339.000000</td>\n",
       "    </tr>\n",
       "    <tr>\n",
       "      <th id=\"T_74089_level0_row5\" class=\"row_heading level0 row5\" >50%</th>\n",
       "      <td id=\"T_74089_row5_col0\" class=\"data row5 col0\" >116.416780</td>\n",
       "      <td id=\"T_74089_row5_col1\" class=\"data row5 col1\" >39.934527</td>\n",
       "      <td id=\"T_74089_row5_col2\" class=\"data row5 col2\" >1111027378407.000000</td>\n",
       "      <td id=\"T_74089_row5_col3\" class=\"data row5 col3\" >6.000000</td>\n",
       "      <td id=\"T_74089_row5_col4\" class=\"data row5 col4\" >5.000000</td>\n",
       "      <td id=\"T_74089_row5_col5\" class=\"data row5 col5\" >294.000000</td>\n",
       "      <td id=\"T_74089_row5_col6\" class=\"data row5 col6\" >38737.000000</td>\n",
       "      <td id=\"T_74089_row5_col7\" class=\"data row5 col7\" >74.260000</td>\n",
       "      <td id=\"T_74089_row5_col8\" class=\"data row5 col8\" >1.000000</td>\n",
       "      <td id=\"T_74089_row5_col9\" class=\"data row5 col9\" >4.000000</td>\n",
       "      <td id=\"T_74089_row5_col10\" class=\"data row5 col10\" >3.000000</td>\n",
       "      <td id=\"T_74089_row5_col11\" class=\"data row5 col11\" >6.000000</td>\n",
       "      <td id=\"T_74089_row5_col12\" class=\"data row5 col12\" >0.333000</td>\n",
       "      <td id=\"T_74089_row5_col13\" class=\"data row5 col13\" >1.000000</td>\n",
       "      <td id=\"T_74089_row5_col14\" class=\"data row5 col14\" >1.000000</td>\n",
       "      <td id=\"T_74089_row5_col15\" class=\"data row5 col15\" >1.000000</td>\n",
       "      <td id=\"T_74089_row5_col16\" class=\"data row5 col16\" >7.000000</td>\n",
       "      <td id=\"T_74089_row5_col17\" class=\"data row5 col17\" >59015.000000</td>\n",
       "    </tr>\n",
       "    <tr>\n",
       "      <th id=\"T_74089_level0_row6\" class=\"row_heading level0 row6\" >75%</th>\n",
       "      <td id=\"T_74089_row6_col0\" class=\"data row6 col0\" >116.477581</td>\n",
       "      <td id=\"T_74089_row6_col1\" class=\"data row6 col1\" >40.003018</td>\n",
       "      <td id=\"T_74089_row6_col2\" class=\"data row6 col2\" >1111027380579.000000</td>\n",
       "      <td id=\"T_74089_row6_col3\" class=\"data row6 col3\" >37.000000</td>\n",
       "      <td id=\"T_74089_row6_col4\" class=\"data row6 col4\" >18.000000</td>\n",
       "      <td id=\"T_74089_row6_col5\" class=\"data row6 col5\" >425.500000</td>\n",
       "      <td id=\"T_74089_row6_col6\" class=\"data row6 col6\" >53819.500000</td>\n",
       "      <td id=\"T_74089_row6_col7\" class=\"data row6 col7\" >98.710000</td>\n",
       "      <td id=\"T_74089_row6_col8\" class=\"data row6 col8\" >1.000000</td>\n",
       "      <td id=\"T_74089_row6_col9\" class=\"data row6 col9\" >4.000000</td>\n",
       "      <td id=\"T_74089_row6_col10\" class=\"data row6 col10\" >4.000000</td>\n",
       "      <td id=\"T_74089_row6_col11\" class=\"data row6 col11\" >6.000000</td>\n",
       "      <td id=\"T_74089_row6_col12\" class=\"data row6 col12\" >0.500000</td>\n",
       "      <td id=\"T_74089_row6_col13\" class=\"data row6 col13\" >1.000000</td>\n",
       "      <td id=\"T_74089_row6_col14\" class=\"data row6 col14\" >1.000000</td>\n",
       "      <td id=\"T_74089_row6_col15\" class=\"data row6 col15\" >1.000000</td>\n",
       "      <td id=\"T_74089_row6_col16\" class=\"data row6 col16\" >8.000000</td>\n",
       "      <td id=\"T_74089_row6_col17\" class=\"data row6 col17\" >75950.000000</td>\n",
       "    </tr>\n",
       "    <tr>\n",
       "      <th id=\"T_74089_level0_row7\" class=\"row_heading level0 row7\" >max</th>\n",
       "      <td id=\"T_74089_row7_col0\" class=\"data row7 col0\" >116.732378</td>\n",
       "      <td id=\"T_74089_row7_col1\" class=\"data row7 col1\" >40.252758</td>\n",
       "      <td id=\"T_74089_row7_col2\" class=\"data row7 col2\" >1114619720585020.000000</td>\n",
       "      <td id=\"T_74089_row7_col3\" class=\"data row7 col3\" >1677.000000</td>\n",
       "      <td id=\"T_74089_row7_col4\" class=\"data row7 col4\" >1143.000000</td>\n",
       "      <td id=\"T_74089_row7_col5\" class=\"data row7 col5\" >18130.000000</td>\n",
       "      <td id=\"T_74089_row7_col6\" class=\"data row7 col6\" >156250.000000</td>\n",
       "      <td id=\"T_74089_row7_col7\" class=\"data row7 col7\" >1745.500000</td>\n",
       "      <td id=\"T_74089_row7_col8\" class=\"data row7 col8\" >4.000000</td>\n",
       "      <td id=\"T_74089_row7_col9\" class=\"data row7 col9\" >4.000000</td>\n",
       "      <td id=\"T_74089_row7_col10\" class=\"data row7 col10\" >4.000000</td>\n",
       "      <td id=\"T_74089_row7_col11\" class=\"data row7 col11\" >6.000000</td>\n",
       "      <td id=\"T_74089_row7_col12\" class=\"data row7 col12\" >10009400.000000</td>\n",
       "      <td id=\"T_74089_row7_col13\" class=\"data row7 col13\" >1.000000</td>\n",
       "      <td id=\"T_74089_row7_col14\" class=\"data row7 col14\" >1.000000</td>\n",
       "      <td id=\"T_74089_row7_col15\" class=\"data row7 col15\" >1.000000</td>\n",
       "      <td id=\"T_74089_row7_col16\" class=\"data row7 col16\" >13.000000</td>\n",
       "      <td id=\"T_74089_row7_col17\" class=\"data row7 col17\" >183109.000000</td>\n",
       "    </tr>\n",
       "  </tbody>\n",
       "</table>\n"
      ],
      "text/plain": [
       "<pandas.io.formats.style.Styler at 0x1a60d6f03d0>"
      ]
     },
     "execution_count": 6,
     "metadata": {},
     "output_type": "execute_result"
    }
   ],
   "source": [
    "df.describe().style.background_gradient(cmap='viridis')"
   ]
  },
  {
   "cell_type": "markdown",
   "id": "3ae7d02d",
   "metadata": {},
   "source": [
    "# Check and Replace Missing Values"
   ]
  },
  {
   "cell_type": "markdown",
   "id": "26403404",
   "metadata": {},
   "source": [
    "## Methode 1)"
   ]
  },
  {
   "cell_type": "code",
   "execution_count": 7,
   "id": "f00e98b5",
   "metadata": {},
   "outputs": [],
   "source": [
    "def find_missing_values(df):\n",
    "    df_nan = ((df.isnull().sum()/df.shape[0])*100).sort_values(ascending=True)\n",
    "    df_miss = df_nan[df_nan > 0]\n",
    "    return df_miss\n",
    "\n",
    "def plot_missing_values(df_miss, figsize=(7,4)):\n",
    "    fig = plt.figure(figsize=figsize)\n",
    "    ax = df_miss.plot(kind='bar')\n",
    "    ax.set_title('Percentage of Missing Values different from Null\\n', fontsize=15)\n",
    "    ax.set_xlabel('Columns Name', fontsize=13)\n",
    "    ax.set_ylabel('Percentage Missing', fontsize=13)\n",
    "    return None"
   ]
  },
  {
   "cell_type": "code",
   "execution_count": 8,
   "id": "c6e2b216",
   "metadata": {},
   "outputs": [
    {
     "data": {
      "image/png": "[encoded data removed]",
      "text/plain": [
       "<Figure size 700x400 with 1 Axes>"
      ]
     },
     "metadata": {},
     "output_type": "display_data"
    }
   ],
   "source": [
    "df_miss = find_missing_values(df)\n",
    "plot_missing_values(df_miss=df_miss)"
   ]
  },
  {
   "cell_type": "markdown",
   "id": "85823f6d",
   "metadata": {},
   "source": [
    "## Methode 2)"
   ]
  },
  {
   "cell_type": "code",
   "execution_count": 9,
   "id": "c5e549fb",
   "metadata": {},
   "outputs": [
    {
     "data": {
      "text/plain": [
       "<AxesSubplot:>"
      ]
     },
     "execution_count": 9,
     "metadata": {},
     "output_type": "execute_result"
    },
    {
     "data": {
      "image/png": "[encoded data removed]",
      "text/plain": [
       "<Figure size 2500x1000 with 3 Axes>"
      ]
     },
     "metadata": {},
     "output_type": "display_data"
    }
   ],
   "source": [
    "msno.bar(df, label_rotation=90, color='#0343DF')"
   ]
  },
  {
   "cell_type": "code",
   "execution_count": null,
   "id": "3aafcadd",
   "metadata": {},
   "outputs": [],
   "source": []
  },
  {
   "cell_type": "code",
   "execution_count": 10,
   "id": "80e16e49",
   "metadata": {},
   "outputs": [],
   "source": [
    "df = df.drop(['url','id'], axis=1)"
   ]
  },
  {
   "cell_type": "code",
   "execution_count": 11,
   "id": "af73ecca",
   "metadata": {},
   "outputs": [
    {
     "data": {
      "text/html": [
       "<div>\n",
       "<style scoped>\n",
       "    .dataframe tbody tr th:only-of-type {\n",
       "        vertical-align: middle;\n",
       "    }\n",
       "\n",
       "    .dataframe tbody tr th {\n",
       "        vertical-align: top;\n",
       "    }\n",
       "\n",
       "    .dataframe thead th {\n",
       "        text-align: right;\n",
       "    }\n",
       "</style>\n",
       "<table border=\"1\" class=\"dataframe\">\n",
       "  <thead>\n",
       "    <tr style=\"text-align: right;\">\n",
       "      <th></th>\n",
       "      <th>0</th>\n",
       "      <th>1</th>\n",
       "      <th>2</th>\n",
       "      <th>3</th>\n",
       "      <th>4</th>\n",
       "    </tr>\n",
       "  </thead>\n",
       "  <tbody>\n",
       "    <tr>\n",
       "      <th>Lng</th>\n",
       "      <td>116.475489</td>\n",
       "      <td>116.453917</td>\n",
       "      <td>116.561978</td>\n",
       "      <td>116.43801</td>\n",
       "      <td>116.428392</td>\n",
       "    </tr>\n",
       "    <tr>\n",
       "      <th>Lat</th>\n",
       "      <td>40.01952</td>\n",
       "      <td>39.881534</td>\n",
       "      <td>39.877145</td>\n",
       "      <td>40.076114</td>\n",
       "      <td>39.886229</td>\n",
       "    </tr>\n",
       "    <tr>\n",
       "      <th>Cid</th>\n",
       "      <td>1111027376244</td>\n",
       "      <td>1111027381879</td>\n",
       "      <td>1111040862969</td>\n",
       "      <td>1111043185817</td>\n",
       "      <td>1111027381174</td>\n",
       "    </tr>\n",
       "    <tr>\n",
       "      <th>tradeTime</th>\n",
       "      <td>2016-08-09</td>\n",
       "      <td>2016-07-28</td>\n",
       "      <td>2016-12-11</td>\n",
       "      <td>2016-09-30</td>\n",
       "      <td>2016-08-28</td>\n",
       "    </tr>\n",
       "    <tr>\n",
       "      <th>DOM</th>\n",
       "      <td>1464.0</td>\n",
       "      <td>903.0</td>\n",
       "      <td>1271.0</td>\n",
       "      <td>965.0</td>\n",
       "      <td>927.0</td>\n",
       "    </tr>\n",
       "    <tr>\n",
       "      <th>followers</th>\n",
       "      <td>106</td>\n",
       "      <td>126</td>\n",
       "      <td>48</td>\n",
       "      <td>138</td>\n",
       "      <td>286</td>\n",
       "    </tr>\n",
       "    <tr>\n",
       "      <th>totalPrice</th>\n",
       "      <td>415.0</td>\n",
       "      <td>575.0</td>\n",
       "      <td>1030.0</td>\n",
       "      <td>297.5</td>\n",
       "      <td>392.0</td>\n",
       "    </tr>\n",
       "    <tr>\n",
       "      <th>price</th>\n",
       "      <td>31680</td>\n",
       "      <td>43436</td>\n",
       "      <td>52021</td>\n",
       "      <td>22202</td>\n",
       "      <td>48396</td>\n",
       "    </tr>\n",
       "    <tr>\n",
       "      <th>square</th>\n",
       "      <td>131.0</td>\n",
       "      <td>132.38</td>\n",
       "      <td>198.0</td>\n",
       "      <td>134.0</td>\n",
       "      <td>81.0</td>\n",
       "    </tr>\n",
       "    <tr>\n",
       "      <th>livingRoom</th>\n",
       "      <td>2</td>\n",
       "      <td>2</td>\n",
       "      <td>3</td>\n",
       "      <td>3</td>\n",
       "      <td>2</td>\n",
       "    </tr>\n",
       "    <tr>\n",
       "      <th>drawingRoom</th>\n",
       "      <td>1</td>\n",
       "      <td>2</td>\n",
       "      <td>2</td>\n",
       "      <td>1</td>\n",
       "      <td>1</td>\n",
       "    </tr>\n",
       "    <tr>\n",
       "      <th>kitchen</th>\n",
       "      <td>1</td>\n",
       "      <td>1</td>\n",
       "      <td>1</td>\n",
       "      <td>1</td>\n",
       "      <td>1</td>\n",
       "    </tr>\n",
       "    <tr>\n",
       "      <th>bathRoom</th>\n",
       "      <td>1</td>\n",
       "      <td>2</td>\n",
       "      <td>3</td>\n",
       "      <td>1</td>\n",
       "      <td>1</td>\n",
       "    </tr>\n",
       "    <tr>\n",
       "      <th>floor</th>\n",
       "      <td>¸ß 26</td>\n",
       "      <td>¸ß 22</td>\n",
       "      <td>ÖÐ 4</td>\n",
       "      <td>µ× 21</td>\n",
       "      <td>ÖÐ 6</td>\n",
       "    </tr>\n",
       "    <tr>\n",
       "      <th>buildingType</th>\n",
       "      <td>1.0</td>\n",
       "      <td>1.0</td>\n",
       "      <td>4.0</td>\n",
       "      <td>1.0</td>\n",
       "      <td>4.0</td>\n",
       "    </tr>\n",
       "    <tr>\n",
       "      <th>constructionTime</th>\n",
       "      <td>2005</td>\n",
       "      <td>2004</td>\n",
       "      <td>2005</td>\n",
       "      <td>2008</td>\n",
       "      <td>1960</td>\n",
       "    </tr>\n",
       "    <tr>\n",
       "      <th>renovationCondition</th>\n",
       "      <td>3</td>\n",
       "      <td>4</td>\n",
       "      <td>3</td>\n",
       "      <td>1</td>\n",
       "      <td>2</td>\n",
       "    </tr>\n",
       "    <tr>\n",
       "      <th>buildingStructure</th>\n",
       "      <td>6</td>\n",
       "      <td>6</td>\n",
       "      <td>6</td>\n",
       "      <td>6</td>\n",
       "      <td>2</td>\n",
       "    </tr>\n",
       "    <tr>\n",
       "      <th>ladderRatio</th>\n",
       "      <td>0.217</td>\n",
       "      <td>0.667</td>\n",
       "      <td>0.5</td>\n",
       "      <td>0.273</td>\n",
       "      <td>0.333</td>\n",
       "    </tr>\n",
       "    <tr>\n",
       "      <th>elevator</th>\n",
       "      <td>1.0</td>\n",
       "      <td>1.0</td>\n",
       "      <td>1.0</td>\n",
       "      <td>1.0</td>\n",
       "      <td>0.0</td>\n",
       "    </tr>\n",
       "    <tr>\n",
       "      <th>fiveYearsProperty</th>\n",
       "      <td>0.0</td>\n",
       "      <td>1.0</td>\n",
       "      <td>0.0</td>\n",
       "      <td>0.0</td>\n",
       "      <td>1.0</td>\n",
       "    </tr>\n",
       "    <tr>\n",
       "      <th>subway</th>\n",
       "      <td>1.0</td>\n",
       "      <td>0.0</td>\n",
       "      <td>0.0</td>\n",
       "      <td>0.0</td>\n",
       "      <td>1.0</td>\n",
       "    </tr>\n",
       "    <tr>\n",
       "      <th>district</th>\n",
       "      <td>7</td>\n",
       "      <td>7</td>\n",
       "      <td>7</td>\n",
       "      <td>6</td>\n",
       "      <td>1</td>\n",
       "    </tr>\n",
       "    <tr>\n",
       "      <th>communityAverage</th>\n",
       "      <td>56021.0</td>\n",
       "      <td>71539.0</td>\n",
       "      <td>48160.0</td>\n",
       "      <td>51238.0</td>\n",
       "      <td>62588.0</td>\n",
       "    </tr>\n",
       "  </tbody>\n",
       "</table>\n",
       "</div>"
      ],
      "text/plain": [
       "                                 0              1              2  \\\n",
       "Lng                     116.475489     116.453917     116.561978   \n",
       "Lat                       40.01952      39.881534      39.877145   \n",
       "Cid                  1111027376244  1111027381879  1111040862969   \n",
       "tradeTime               2016-08-09     2016-07-28     2016-12-11   \n",
       "DOM                         1464.0          903.0         1271.0   \n",
       "followers                      106            126             48   \n",
       "totalPrice                   415.0          575.0         1030.0   \n",
       "price                        31680          43436          52021   \n",
       "square                       131.0         132.38          198.0   \n",
       "livingRoom                       2              2              3   \n",
       "drawingRoom                      1              2              2   \n",
       "kitchen                          1              1              1   \n",
       "bathRoom                         1              2              3   \n",
       "floor                        ¸ß 26          ¸ß 22           ÖÐ 4   \n",
       "buildingType                   1.0            1.0            4.0   \n",
       "constructionTime              2005           2004           2005   \n",
       "renovationCondition              3              4              3   \n",
       "buildingStructure                6              6              6   \n",
       "ladderRatio                  0.217          0.667            0.5   \n",
       "elevator                       1.0            1.0            1.0   \n",
       "fiveYearsProperty              0.0            1.0            0.0   \n",
       "subway                         1.0            0.0            0.0   \n",
       "district                         7              7              7   \n",
       "communityAverage           56021.0        71539.0        48160.0   \n",
       "\n",
       "                                 3              4  \n",
       "Lng                      116.43801     116.428392  \n",
       "Lat                      40.076114      39.886229  \n",
       "Cid                  1111043185817  1111027381174  \n",
       "tradeTime               2016-09-30     2016-08-28  \n",
       "DOM                          965.0          927.0  \n",
       "followers                      138            286  \n",
       "totalPrice                   297.5          392.0  \n",
       "price                        22202          48396  \n",
       "square                       134.0           81.0  \n",
       "livingRoom                       3              2  \n",
       "drawingRoom                      1              1  \n",
       "kitchen                          1              1  \n",
       "bathRoom                         1              1  \n",
       "floor                        µ× 21           ÖÐ 6  \n",
       "buildingType                   1.0            4.0  \n",
       "constructionTime              2008           1960  \n",
       "renovationCondition              1              2  \n",
       "buildingStructure                6              2  \n",
       "ladderRatio                  0.273          0.333  \n",
       "elevator                       1.0            0.0  \n",
       "fiveYearsProperty              0.0            1.0  \n",
       "subway                         0.0            1.0  \n",
       "district                         6              1  \n",
       "communityAverage           51238.0        62588.0  "
      ]
     },
     "execution_count": 11,
     "metadata": {},
     "output_type": "execute_result"
    }
   ],
   "source": [
    "df.head().T"
   ]
  },
  {
   "cell_type": "code",
   "execution_count": 12,
   "id": "ceb07b09",
   "metadata": {},
   "outputs": [
    {
     "data": {
      "text/plain": [
       "elevator              0.010036\n",
       "fiveYearsProperty     0.010036\n",
       "subway                0.010036\n",
       "communityAverage      0.145209\n",
       "buildingType          0.633838\n",
       "DOM                  49.545713\n",
       "dtype: float64"
      ]
     },
     "execution_count": 12,
     "metadata": {},
     "output_type": "execute_result"
    }
   ],
   "source": [
    "df_miss"
   ]
  },
  {
   "cell_type": "code",
   "execution_count": 24,
   "id": "add6fcb5",
   "metadata": {},
   "outputs": [
    {
     "data": {
      "text/plain": [
       "1.0    184008\n",
       "0.0    134843\n",
       "Name: elevator, dtype: int64"
      ]
     },
     "execution_count": 24,
     "metadata": {},
     "output_type": "execute_result"
    }
   ],
   "source": [
    "df['elevator'].value_counts(dropna=False)"
   ]
  },
  {
   "cell_type": "code",
   "execution_count": 23,
   "id": "fe3549af",
   "metadata": {},
   "outputs": [],
   "source": [
    "df.loc[df[df['elevator'].isnull()].index, 'elevator'] = df['elevator'].mode()[0]"
   ]
  },
  {
   "cell_type": "code",
   "execution_count": null,
   "id": "451c17f8",
   "metadata": {},
   "outputs": [],
   "source": []
  },
  {
   "cell_type": "code",
   "execution_count": 14,
   "id": "c8d42680",
   "metadata": {},
   "outputs": [],
   "source": [
    "#df['elevator'] = df['elevator'].replace(to_replace=np.nan, value=1.0)"
   ]
  },
  {
   "cell_type": "code",
   "execution_count": 27,
   "id": "788851c0",
   "metadata": {},
   "outputs": [
    {
     "data": {
      "text/plain": [
       "1.0    205830\n",
       "0.0    112989\n",
       "NaN        32\n",
       "Name: fiveYearsProperty, dtype: int64"
      ]
     },
     "execution_count": 27,
     "metadata": {},
     "output_type": "execute_result"
    }
   ],
   "source": [
    "df['fiveYearsProperty'].value_counts(dropna=False)"
   ]
  },
  {
   "cell_type": "markdown",
   "id": "834cf4a0",
   "metadata": {},
   "source": [
    "##### Filla column 'fiveYearsProperty'"
   ]
  },
  {
   "cell_type": "code",
   "execution_count": 31,
   "id": "ccbe243e",
   "metadata": {},
   "outputs": [],
   "source": [
    "df.loc[df[df['fiveYearsProperty'].isnull()].index, 'fiveYearsProperty'] = df['fiveYearsProperty'].mode()[0]"
   ]
  },
  {
   "cell_type": "markdown",
   "id": "e007db85",
   "metadata": {},
   "source": [
    "#####  Fill Column 'subway'"
   ]
  },
  {
   "cell_type": "code",
   "execution_count": 33,
   "id": "2bca8048",
   "metadata": {},
   "outputs": [
    {
     "data": {
      "text/plain": [
       "1.0    191646\n",
       "0.0    127173\n",
       "NaN        32\n",
       "Name: subway, dtype: int64"
      ]
     },
     "execution_count": 33,
     "metadata": {},
     "output_type": "execute_result"
    }
   ],
   "source": [
    "df['subway'].value_counts(dropna=False)"
   ]
  },
  {
   "cell_type": "code",
   "execution_count": 34,
   "id": "15dd124c",
   "metadata": {},
   "outputs": [],
   "source": [
    "df.loc[df[df['subway'].isnull()].index, 'subway'] = df['subway'].mode()[0]"
   ]
  },
  {
   "cell_type": "markdown",
   "id": "7e9aa4d9",
   "metadata": {},
   "source": [
    "##### Fill Missing values in columns 'communityAverage'"
   ]
  },
  {
   "cell_type": "code",
   "execution_count": 36,
   "id": "e402878f",
   "metadata": {},
   "outputs": [
    {
     "data": {
      "text/plain": [
       "92360.0     1525\n",
       "54263.0     1499\n",
       "40934.0     1350\n",
       "50205.0     1331\n",
       "64222.0     1247\n",
       "            ... \n",
       "47475.0        1\n",
       "80441.0        1\n",
       "36113.0        1\n",
       "28381.0        1\n",
       "130768.0       1\n",
       "Name: communityAverage, Length: 4073, dtype: int64"
      ]
     },
     "execution_count": 36,
     "metadata": {},
     "output_type": "execute_result"
    }
   ],
   "source": [
    "df['communityAverage'].value_counts(dropna=False)"
   ]
  },
  {
   "cell_type": "code",
   "execution_count": 37,
   "id": "56fde027",
   "metadata": {},
   "outputs": [],
   "source": [
    "df.loc[df[df['communityAverage'].isnull()].index, 'communityAverage'] = df['communityAverage'].mean()"
   ]
  },
  {
   "cell_type": "markdown",
   "id": "b6300545",
   "metadata": {},
   "source": [
    "##### Fill Missing values in Column 'buildingType'"
   ]
  },
  {
   "cell_type": "code",
   "execution_count": 39,
   "id": "b34a6ea2",
   "metadata": {},
   "outputs": [
    {
     "data": {
      "text/plain": [
       "4.000    172405\n",
       "1.000     84541\n",
       "3.000     59715\n",
       "NaN        2021\n",
       "2.000       137\n",
       "0.500        15\n",
       "0.333         5\n",
       "0.048         4\n",
       "0.125         3\n",
       "0.250         2\n",
       "0.429         1\n",
       "0.375         1\n",
       "0.667         1\n",
       "Name: buildingType, dtype: int64"
      ]
     },
     "execution_count": 39,
     "metadata": {},
     "output_type": "execute_result"
    }
   ],
   "source": [
    "df['buildingType'].value_counts(dropna=False)"
   ]
  },
  {
   "cell_type": "code",
   "execution_count": 40,
   "id": "388a97c8",
   "metadata": {},
   "outputs": [],
   "source": [
    "df.loc[df[df['buildingType'].isnull()].index, 'buildingType'] = df['buildingType'].mean()"
   ]
  },
  {
   "cell_type": "markdown",
   "id": "6f07a5ec",
   "metadata": {},
   "source": [
    "##### Fill Missing values in Column 'DOM'"
   ]
  },
  {
   "cell_type": "code",
   "execution_count": 43,
   "id": "f3aa3414",
   "metadata": {},
   "outputs": [
    {
     "data": {
      "text/plain": [
       "NaN       157977\n",
       "1.0        69162\n",
       "5.0         2352\n",
       "4.0         2317\n",
       "3.0         2313\n",
       "           ...  \n",
       "637.0          1\n",
       "473.0          1\n",
       "452.0          1\n",
       "368.0          1\n",
       "1335.0         1\n",
       "Name: DOM, Length: 552, dtype: int64"
      ]
     },
     "execution_count": 43,
     "metadata": {},
     "output_type": "execute_result"
    }
   ],
   "source": [
    "df['DOM'].value_counts(dropna=False)"
   ]
  },
  {
   "cell_type": "code",
   "execution_count": 46,
   "id": "321a967c",
   "metadata": {},
   "outputs": [
    {
     "data": {
      "text/plain": [
       "6.0"
      ]
     },
     "execution_count": 46,
     "metadata": {},
     "output_type": "execute_result"
    }
   ],
   "source": [
    "df['DOM'].median()"
   ]
  },
  {
   "cell_type": "code",
   "execution_count": 47,
   "id": "494a6d13",
   "metadata": {},
   "outputs": [],
   "source": [
    "df.loc[df[df['DOM'].isnull()].index, 'DOM'] = df['DOM'].median()"
   ]
  },
  {
   "cell_type": "code",
   "execution_count": 49,
   "id": "b4ae7079",
   "metadata": {},
   "outputs": [
    {
     "data": {
      "text/plain": [
       "Lng                    0\n",
       "Lat                    0\n",
       "Cid                    0\n",
       "tradeTime              0\n",
       "DOM                    0\n",
       "followers              0\n",
       "totalPrice             0\n",
       "price                  0\n",
       "square                 0\n",
       "livingRoom             0\n",
       "drawingRoom            0\n",
       "kitchen                0\n",
       "bathRoom               0\n",
       "floor                  0\n",
       "buildingType           0\n",
       "constructionTime       0\n",
       "renovationCondition    0\n",
       "buildingStructure      0\n",
       "ladderRatio            0\n",
       "elevator               0\n",
       "fiveYearsProperty      0\n",
       "subway                 0\n",
       "district               0\n",
       "communityAverage       0\n",
       "dtype: int64"
      ]
     },
     "execution_count": 49,
     "metadata": {},
     "output_type": "execute_result"
    }
   ],
   "source": [
    "df.isnull().sum()"
   ]
  },
  {
   "cell_type": "markdown",
   "id": "7477c081",
   "metadata": {},
   "source": [
    "# Feature Engineering"
   ]
  },
  {
   "cell_type": "code",
   "execution_count": 50,
   "id": "ef5e364d",
   "metadata": {},
   "outputs": [],
   "source": [
    "df = df.drop('Cid', axis=1)"
   ]
  },
  {
   "cell_type": "code",
   "execution_count": 53,
   "id": "abbc7f58",
   "metadata": {},
   "outputs": [],
   "source": [
    "df['tradeTime'] = pd.to_datetime(df['tradeTime']) \n",
    "df['year'] = df['tradeTime'].dt.year\n",
    "df['month'] = df['tradeTime'].dt.month\n",
    "df['day'] = df['tradeTime'].dt.day"
   ]
  },
  {
   "cell_type": "code",
   "execution_count": 54,
   "id": "612aa0e2",
   "metadata": {},
   "outputs": [
    {
     "data": {
      "text/html": [
       "<div>\n",
       "<style scoped>\n",
       "    .dataframe tbody tr th:only-of-type {\n",
       "        vertical-align: middle;\n",
       "    }\n",
       "\n",
       "    .dataframe tbody tr th {\n",
       "        vertical-align: top;\n",
       "    }\n",
       "\n",
       "    .dataframe thead th {\n",
       "        text-align: right;\n",
       "    }\n",
       "</style>\n",
       "<table border=\"1\" class=\"dataframe\">\n",
       "  <thead>\n",
       "    <tr style=\"text-align: right;\">\n",
       "      <th></th>\n",
       "      <th>Lng</th>\n",
       "      <th>Lat</th>\n",
       "      <th>tradeTime</th>\n",
       "      <th>DOM</th>\n",
       "      <th>followers</th>\n",
       "      <th>totalPrice</th>\n",
       "      <th>price</th>\n",
       "      <th>square</th>\n",
       "      <th>livingRoom</th>\n",
       "      <th>drawingRoom</th>\n",
       "      <th>...</th>\n",
       "      <th>buildingStructure</th>\n",
       "      <th>ladderRatio</th>\n",
       "      <th>elevator</th>\n",
       "      <th>fiveYearsProperty</th>\n",
       "      <th>subway</th>\n",
       "      <th>district</th>\n",
       "      <th>communityAverage</th>\n",
       "      <th>year</th>\n",
       "      <th>month</th>\n",
       "      <th>day</th>\n",
       "    </tr>\n",
       "  </thead>\n",
       "  <tbody>\n",
       "    <tr>\n",
       "      <th>0</th>\n",
       "      <td>116.475489</td>\n",
       "      <td>40.019520</td>\n",
       "      <td>2016-08-09</td>\n",
       "      <td>1464.0</td>\n",
       "      <td>106</td>\n",
       "      <td>415.0</td>\n",
       "      <td>31680</td>\n",
       "      <td>131.00</td>\n",
       "      <td>2</td>\n",
       "      <td>1</td>\n",
       "      <td>...</td>\n",
       "      <td>6</td>\n",
       "      <td>0.217</td>\n",
       "      <td>1.0</td>\n",
       "      <td>0.0</td>\n",
       "      <td>1.0</td>\n",
       "      <td>7</td>\n",
       "      <td>56021.0</td>\n",
       "      <td>2016</td>\n",
       "      <td>8</td>\n",
       "      <td>9</td>\n",
       "    </tr>\n",
       "    <tr>\n",
       "      <th>1</th>\n",
       "      <td>116.453917</td>\n",
       "      <td>39.881534</td>\n",
       "      <td>2016-07-28</td>\n",
       "      <td>903.0</td>\n",
       "      <td>126</td>\n",
       "      <td>575.0</td>\n",
       "      <td>43436</td>\n",
       "      <td>132.38</td>\n",
       "      <td>2</td>\n",
       "      <td>2</td>\n",
       "      <td>...</td>\n",
       "      <td>6</td>\n",
       "      <td>0.667</td>\n",
       "      <td>1.0</td>\n",
       "      <td>1.0</td>\n",
       "      <td>0.0</td>\n",
       "      <td>7</td>\n",
       "      <td>71539.0</td>\n",
       "      <td>2016</td>\n",
       "      <td>7</td>\n",
       "      <td>28</td>\n",
       "    </tr>\n",
       "    <tr>\n",
       "      <th>2</th>\n",
       "      <td>116.561978</td>\n",
       "      <td>39.877145</td>\n",
       "      <td>2016-12-11</td>\n",
       "      <td>1271.0</td>\n",
       "      <td>48</td>\n",
       "      <td>1030.0</td>\n",
       "      <td>52021</td>\n",
       "      <td>198.00</td>\n",
       "      <td>3</td>\n",
       "      <td>2</td>\n",
       "      <td>...</td>\n",
       "      <td>6</td>\n",
       "      <td>0.500</td>\n",
       "      <td>1.0</td>\n",
       "      <td>0.0</td>\n",
       "      <td>0.0</td>\n",
       "      <td>7</td>\n",
       "      <td>48160.0</td>\n",
       "      <td>2016</td>\n",
       "      <td>12</td>\n",
       "      <td>11</td>\n",
       "    </tr>\n",
       "    <tr>\n",
       "      <th>3</th>\n",
       "      <td>116.438010</td>\n",
       "      <td>40.076114</td>\n",
       "      <td>2016-09-30</td>\n",
       "      <td>965.0</td>\n",
       "      <td>138</td>\n",
       "      <td>297.5</td>\n",
       "      <td>22202</td>\n",
       "      <td>134.00</td>\n",
       "      <td>3</td>\n",
       "      <td>1</td>\n",
       "      <td>...</td>\n",
       "      <td>6</td>\n",
       "      <td>0.273</td>\n",
       "      <td>1.0</td>\n",
       "      <td>0.0</td>\n",
       "      <td>0.0</td>\n",
       "      <td>6</td>\n",
       "      <td>51238.0</td>\n",
       "      <td>2016</td>\n",
       "      <td>9</td>\n",
       "      <td>30</td>\n",
       "    </tr>\n",
       "    <tr>\n",
       "      <th>4</th>\n",
       "      <td>116.428392</td>\n",
       "      <td>39.886229</td>\n",
       "      <td>2016-08-28</td>\n",
       "      <td>927.0</td>\n",
       "      <td>286</td>\n",
       "      <td>392.0</td>\n",
       "      <td>48396</td>\n",
       "      <td>81.00</td>\n",
       "      <td>2</td>\n",
       "      <td>1</td>\n",
       "      <td>...</td>\n",
       "      <td>2</td>\n",
       "      <td>0.333</td>\n",
       "      <td>0.0</td>\n",
       "      <td>1.0</td>\n",
       "      <td>1.0</td>\n",
       "      <td>1</td>\n",
       "      <td>62588.0</td>\n",
       "      <td>2016</td>\n",
       "      <td>8</td>\n",
       "      <td>28</td>\n",
       "    </tr>\n",
       "  </tbody>\n",
       "</table>\n",
       "<p>5 rows × 26 columns</p>\n",
       "</div>"
      ],
      "text/plain": [
       "          Lng        Lat  tradeTime     DOM  followers  totalPrice  price  \\\n",
       "0  116.475489  40.019520 2016-08-09  1464.0        106       415.0  31680   \n",
       "1  116.453917  39.881534 2016-07-28   903.0        126       575.0  43436   \n",
       "2  116.561978  39.877145 2016-12-11  1271.0         48      1030.0  52021   \n",
       "3  116.438010  40.076114 2016-09-30   965.0        138       297.5  22202   \n",
       "4  116.428392  39.886229 2016-08-28   927.0        286       392.0  48396   \n",
       "\n",
       "   square livingRoom drawingRoom  ...  buildingStructure ladderRatio elevator  \\\n",
       "0  131.00          2           1  ...                  6       0.217      1.0   \n",
       "1  132.38          2           2  ...                  6       0.667      1.0   \n",
       "2  198.00          3           2  ...                  6       0.500      1.0   \n",
       "3  134.00          3           1  ...                  6       0.273      1.0   \n",
       "4   81.00          2           1  ...                  2       0.333      0.0   \n",
       "\n",
       "   fiveYearsProperty subway  district  communityAverage  year  month  day  \n",
       "0                0.0    1.0         7           56021.0  2016      8    9  \n",
       "1                1.0    0.0         7           71539.0  2016      7   28  \n",
       "2                0.0    0.0         7           48160.0  2016     12   11  \n",
       "3                0.0    0.0         6           51238.0  2016      9   30  \n",
       "4                1.0    1.0         1           62588.0  2016      8   28  \n",
       "\n",
       "[5 rows x 26 columns]"
      ]
     },
     "execution_count": 54,
     "metadata": {},
     "output_type": "execute_result"
    }
   ],
   "source": [
    "df.head()"
   ]
  },
  {
   "cell_type": "code",
   "execution_count": 56,
   "id": "dfc431bf",
   "metadata": {},
   "outputs": [],
   "source": [
    "df = df.drop('tradeTime', axis=1)"
   ]
  },
  {
   "cell_type": "code",
   "execution_count": 71,
   "id": "5bb7109c",
   "metadata": {},
   "outputs": [],
   "source": [
    "df_year_month=df.groupby(['year', 'month']).mean()['totalPrice']"
   ]
  },
  {
   "cell_type": "code",
   "execution_count": 79,
   "id": "e9ab88a2",
   "metadata": {},
   "outputs": [
    {
     "data": {
      "image/png": "[encoded data removed]",
      "text/plain": [
       "<Figure size 640x480 with 1 Axes>"
      ]
     },
     "metadata": {},
     "output_type": "display_data"
    }
   ],
   "source": [
    "df_year_month.plot()\n",
    "plt.xticks(rotation=90)\n",
    "plt.ylabel('Mean of Totalprice')\n",
    "plt.show()"
   ]
  },
  {
   "cell_type": "code",
   "execution_count": null,
   "id": "5ce49321",
   "metadata": {},
   "outputs": [],
   "source": []
  },
  {
   "cell_type": "code",
   "execution_count": 80,
   "id": "251ecd7a",
   "metadata": {},
   "outputs": [
    {
     "data": {
      "image/png": "[encoded data removed]",
      "text/plain": [
       "<Figure size 640x480 with 1 Axes>"
      ]
     },
     "metadata": {},
     "output_type": "display_data"
    }
   ],
   "source": [
    "df_year_day=df.groupby(['year', 'day']).mean()['totalPrice']\n",
    "\n",
    "df_year_day.plot()\n",
    "plt.xticks(rotation=90)\n",
    "plt.ylabel('Mean of Totalprice')\n",
    "plt.show()"
   ]
  },
  {
   "cell_type": "code",
   "execution_count": null,
   "id": "9a01090d",
   "metadata": {},
   "outputs": [],
   "source": []
  },
  {
   "cell_type": "code",
   "execution_count": null,
   "id": "cd377feb",
   "metadata": {},
   "outputs": [],
   "source": []
  },
  {
   "cell_type": "code",
   "execution_count": null,
   "id": "ccf3070c",
   "metadata": {},
   "outputs": [],
   "source": []
  }
 ],
 "metadata": {
  "kernelspec": {
   "display_name": "Python 3 (ipykernel)",
   "language": "python",
   "name": "python3"
  },
  "language_info": {
   "codemirror_mode": {
    "name": "ipython",
    "version": 3
   },
   "file_extension": ".py",
   "mimetype": "text/x-python",
   "name": "python",
   "nbconvert_exporter": "python",
   "pygments_lexer": "ipython3",
   "version": "3.9.13"
  }
 },
 "nbformat": 4,
 "nbformat_minor": 5
}
